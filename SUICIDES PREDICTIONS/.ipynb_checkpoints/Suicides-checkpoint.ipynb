{
 "cells": [
  {
   "cell_type": "code",
   "execution_count": 1,
   "metadata": {},
   "outputs": [],
   "source": [
    "import numpy as np\n",
    "import pandas as pd\n",
    "import matplotlib.pyplot as plt\n",
    "import sklearn"
   ]
  },
  {
   "cell_type": "code",
   "execution_count": 2,
   "metadata": {},
   "outputs": [],
   "source": [
    "train=pd.read_csv('train.csv')\n",
    "test=pd.read_csv('test.csv')\n",
    "submissions=pd.read_csv('sample_submission.csv')"
   ]
  },
  {
   "cell_type": "code",
   "execution_count": 3,
   "metadata": {},
   "outputs": [],
   "source": [
    "labels=train.suicides_no\n",
    "train.drop(columns=['suicides_no'],inplace=True)"
   ]
  },
  {
   "cell_type": "code",
   "execution_count": 4,
   "metadata": {},
   "outputs": [],
   "source": [
    "join=pd.concat([train,test])"
   ]
  },
  {
   "cell_type": "code",
   "execution_count": 5,
   "metadata": {},
   "outputs": [],
   "source": [
    "join.drop(columns=['Unnamed: 0','country-year','HDI for year'],inplace=True)"
   ]
  },
  {
   "cell_type": "code",
   "execution_count": 6,
   "metadata": {},
   "outputs": [
    {
     "data": {
      "text/plain": [
       "array(['15-24 years', '35-54 years', '75+ years', '25-34 years',\n",
       "       '55-74 years', '5-14 years'], dtype=object)"
      ]
     },
     "execution_count": 6,
     "metadata": {},
     "output_type": "execute_result"
    }
   ],
   "source": [
    "join.age.unique()"
   ]
  },
  {
   "cell_type": "code",
   "execution_count": 7,
   "metadata": {},
   "outputs": [],
   "source": [
    "dic={'5-14 years':1,'15-24 years':2,'25-34 years':3,'35-54 years':4,'55-74 years':5,'75+ years':6}\n",
    "join.age=join.age.map(dic)"
   ]
  },
  {
   "cell_type": "code",
   "execution_count": 8,
   "metadata": {},
   "outputs": [
    {
     "data": {
      "text/html": [
       "<div>\n",
       "<style scoped>\n",
       "    .dataframe tbody tr th:only-of-type {\n",
       "        vertical-align: middle;\n",
       "    }\n",
       "\n",
       "    .dataframe tbody tr th {\n",
       "        vertical-align: top;\n",
       "    }\n",
       "\n",
       "    .dataframe thead th {\n",
       "        text-align: right;\n",
       "    }\n",
       "</style>\n",
       "<table border=\"1\" class=\"dataframe\">\n",
       "  <thead>\n",
       "    <tr style=\"text-align: right;\">\n",
       "      <th></th>\n",
       "      <th>country</th>\n",
       "      <th>year</th>\n",
       "      <th>sex</th>\n",
       "      <th>age</th>\n",
       "      <th>population</th>\n",
       "      <th>gdp_for_year ($)</th>\n",
       "      <th>gdp_per_capita ($)</th>\n",
       "      <th>generation</th>\n",
       "    </tr>\n",
       "  </thead>\n",
       "  <tbody>\n",
       "    <tr>\n",
       "      <th>0</th>\n",
       "      <td>Albania</td>\n",
       "      <td>1987</td>\n",
       "      <td>male</td>\n",
       "      <td>2</td>\n",
       "      <td>312900</td>\n",
       "      <td>2,156,624,900</td>\n",
       "      <td>796</td>\n",
       "      <td>Generation X</td>\n",
       "    </tr>\n",
       "    <tr>\n",
       "      <th>1</th>\n",
       "      <td>Albania</td>\n",
       "      <td>1987</td>\n",
       "      <td>male</td>\n",
       "      <td>4</td>\n",
       "      <td>308000</td>\n",
       "      <td>2,156,624,900</td>\n",
       "      <td>796</td>\n",
       "      <td>Silent</td>\n",
       "    </tr>\n",
       "    <tr>\n",
       "      <th>2</th>\n",
       "      <td>Albania</td>\n",
       "      <td>1987</td>\n",
       "      <td>female</td>\n",
       "      <td>2</td>\n",
       "      <td>289700</td>\n",
       "      <td>2,156,624,900</td>\n",
       "      <td>796</td>\n",
       "      <td>Generation X</td>\n",
       "    </tr>\n",
       "    <tr>\n",
       "      <th>3</th>\n",
       "      <td>Albania</td>\n",
       "      <td>1987</td>\n",
       "      <td>male</td>\n",
       "      <td>6</td>\n",
       "      <td>21800</td>\n",
       "      <td>2,156,624,900</td>\n",
       "      <td>796</td>\n",
       "      <td>G.I. Generation</td>\n",
       "    </tr>\n",
       "    <tr>\n",
       "      <th>4</th>\n",
       "      <td>Albania</td>\n",
       "      <td>1987</td>\n",
       "      <td>male</td>\n",
       "      <td>3</td>\n",
       "      <td>274300</td>\n",
       "      <td>2,156,624,900</td>\n",
       "      <td>796</td>\n",
       "      <td>Boomers</td>\n",
       "    </tr>\n",
       "  </tbody>\n",
       "</table>\n",
       "</div>"
      ],
      "text/plain": [
       "   country  year     sex  age  population  gdp_for_year ($)   \\\n",
       "0  Albania  1987    male    2      312900      2,156,624,900   \n",
       "1  Albania  1987    male    4      308000      2,156,624,900   \n",
       "2  Albania  1987  female    2      289700      2,156,624,900   \n",
       "3  Albania  1987    male    6       21800      2,156,624,900   \n",
       "4  Albania  1987    male    3      274300      2,156,624,900   \n",
       "\n",
       "   gdp_per_capita ($)       generation  \n",
       "0                 796     Generation X  \n",
       "1                 796           Silent  \n",
       "2                 796     Generation X  \n",
       "3                 796  G.I. Generation  \n",
       "4                 796          Boomers  "
      ]
     },
     "execution_count": 8,
     "metadata": {},
     "output_type": "execute_result"
    }
   ],
   "source": [
    "join.head()"
   ]
  },
  {
   "cell_type": "code",
   "execution_count": 9,
   "metadata": {},
   "outputs": [],
   "source": [
    "join.drop(join.columns[5],axis=1,inplace=True)"
   ]
  },
  {
   "cell_type": "code",
   "execution_count": 10,
   "metadata": {},
   "outputs": [],
   "source": [
    "sex=pd.get_dummies(join.sex)\n",
    "sex=sex.male\n",
    "join.sex=sex"
   ]
  },
  {
   "cell_type": "code",
   "execution_count": 11,
   "metadata": {},
   "outputs": [
    {
     "data": {
      "text/plain": [
       "array(['Albania', 'Antigua and Barbuda', 'Argentina', 'Armenia', 'Aruba',\n",
       "       'Australia', 'Austria', 'Azerbaijan', 'Bahamas', 'Bahrain',\n",
       "       'Barbados', 'Belarus', 'Belgium', 'Belize',\n",
       "       'Bosnia and Herzegovina', 'Brazil', 'Bulgaria', 'Cabo Verde',\n",
       "       'Canada', 'Chile', 'Colombia', 'Costa Rica', 'Croatia', 'Cuba',\n",
       "       'Cyprus', 'Czech Republic', 'Denmark', 'Dominica', 'Ecuador',\n",
       "       'El Salvador', 'Estonia', 'Fiji', 'Finland', 'France', 'Georgia',\n",
       "       'Germany', 'Greece', 'Grenada', 'Guatemala', 'Guyana', 'Hungary',\n",
       "       'Iceland', 'Ireland', 'Israel', 'Italy', 'Jamaica', 'Japan',\n",
       "       'Kazakhstan', 'Kiribati', 'Kuwait', 'Kyrgyzstan', 'Latvia',\n",
       "       'Lithuania', 'Luxembourg', 'Macau', 'Maldives', 'Malta',\n",
       "       'Mauritius', 'Mexico', 'Mongolia', 'Montenegro', 'Netherlands',\n",
       "       'New Zealand', 'Nicaragua', 'Norway', 'Oman', 'Panama', 'Paraguay',\n",
       "       'Philippines', 'Poland', 'Portugal', 'Puerto Rico', 'Qatar',\n",
       "       'Republic of Korea', 'Romania', 'Russian Federation',\n",
       "       'Saint Kitts and Nevis', 'Saint Lucia',\n",
       "       'Saint Vincent and Grenadines', 'San Marino', 'Serbia',\n",
       "       'Seychelles', 'Singapore', 'Slovakia', 'Slovenia', 'South Africa',\n",
       "       'Spain', 'Sri Lanka', 'Suriname', 'Sweden', 'Switzerland',\n",
       "       'Thailand', 'Trinidad and Tobago', 'Turkey', 'Turkmenistan',\n",
       "       'Ukraine', 'United Arab Emirates', 'United Kingdom',\n",
       "       'United States', 'Uruguay', 'Uzbekistan'], dtype=object)"
      ]
     },
     "execution_count": 11,
     "metadata": {},
     "output_type": "execute_result"
    }
   ],
   "source": [
    "join.country.unique()"
   ]
  },
  {
   "cell_type": "code",
   "execution_count": 12,
   "metadata": {},
   "outputs": [],
   "source": [
    "dic = {}\n",
    "for x in ('Armenia','Azerbaijan', 'Bahrain','Israel','Japan','Kazakhstan', 'Kuwait','Kyrgyzstan','Macau','Maldives','Mongolia','Oman','Philippines','Qatar','Republic of Korea','Russian Federation','Sri Lanka','Thailand','Turkey','Turkmenistan','United Arab Emirates','Singapore','Uzbekistan'):\n",
    "    dic[x] = 1"
   ]
  },
  {
   "cell_type": "code",
   "execution_count": 13,
   "metadata": {},
   "outputs": [],
   "source": [
    "dic = {}\n",
    "for x in ('Armenia','Azerbaijan', 'Bahrain','Israel','Japan','Kazakhstan', 'Kuwait','Kyrgyzstan','Macau','Maldives','Mongolia','Oman','Philippines','Qatar','Republic of Korea','Russian Federation','Sri Lanka','Thailand','Turkey','Turkmenistan','United Arab Emirates','Singapore','Uzbekistan'):\n",
    "    dic[x] = 1\n",
    "for x in ('Albania', 'Austria','Belarus','Belgium','Croatia','Serbia','Cyprus','Sweden','Norway','Netherlands','Bosnia and Herzegovina','Bulgaria','Czech Republic','Denmark','Estonia','Finland', 'France','Georgia','Germany', 'Greece','Hungary','Iceland', 'Ireland', 'Italy','Latvia','Lithuania', 'Luxembourg','Malta','Montenegro','Poland', 'Portugal', 'Romania','San Marino','Slovakia','Slovenia', 'Spain','Switzerland', 'Ukraine','United Kingdom'):\n",
    "    dic[x] = 2\n",
    "for x in ('Antigua and Barbuda','Bahamas','Costa Rica','Barbados','Cuba','Belize','Canada','Dominica', 'El Salvador','Grenada','Guatemala','Jamaica','Nicaragua','Panama','Puerto Rico','Saint Kitts and Nevis','Saint Vincent and Grenadines','Saint Lucia','United States'):\n",
    "    dic[x]=3\n",
    "for x in ('Argentina','Chile','Colombia','Brazil','Cabo Verde','Ecuador', 'Guyana','Mexico','Paraguay','Suriname','Uruguay','Trinidad and Tobago'):\n",
    "    dic[x]=4\n",
    "for x in ( 'Australia', 'Fiji','Kiribati','New Zealand'):\n",
    "    dic[x]=5\n",
    "for x in ('Nicaragua','Mauritius','South Africa','Aruba','Seychelles'):\n",
    "    dic[x]=6\n",
    "join.country=join.country.map(dic)\n"
   ]
  },
  {
   "cell_type": "code",
   "execution_count": 14,
   "metadata": {},
   "outputs": [
    {
     "data": {
      "text/plain": [
       "array(['Generation X', 'Silent', 'G.I. Generation', 'Boomers',\n",
       "       'Millenials', 'Generation Z'], dtype=object)"
      ]
     },
     "execution_count": 14,
     "metadata": {},
     "output_type": "execute_result"
    }
   ],
   "source": [
    "join.generation.unique()"
   ]
  },
  {
   "cell_type": "code",
   "execution_count": 15,
   "metadata": {},
   "outputs": [
    {
     "data": {
      "text/plain": [
       "array(['Generation X', 'Silent', 'G.I. Generation', 'Boomers',\n",
       "       'Millenials', 'Generation Z'], dtype=object)"
      ]
     },
     "execution_count": 15,
     "metadata": {},
     "output_type": "execute_result"
    }
   ],
   "source": [
    "join.generation.unique()"
   ]
  },
  {
   "cell_type": "code",
   "execution_count": 16,
   "metadata": {},
   "outputs": [],
   "source": [
    "dic={'Generation X':1, 'Silent':2, 'G.I. Generation':3, 'Boomers':4,\n",
    "       'Millenials':5, 'Generation Z':6}\n",
    "join.generation=join.generation.map(dic)"
   ]
  },
  {
   "cell_type": "code",
   "execution_count": 17,
   "metadata": {},
   "outputs": [
    {
     "data": {
      "text/html": [
       "<div>\n",
       "<style scoped>\n",
       "    .dataframe tbody tr th:only-of-type {\n",
       "        vertical-align: middle;\n",
       "    }\n",
       "\n",
       "    .dataframe tbody tr th {\n",
       "        vertical-align: top;\n",
       "    }\n",
       "\n",
       "    .dataframe thead th {\n",
       "        text-align: right;\n",
       "    }\n",
       "</style>\n",
       "<table border=\"1\" class=\"dataframe\">\n",
       "  <thead>\n",
       "    <tr style=\"text-align: right;\">\n",
       "      <th></th>\n",
       "      <th>country</th>\n",
       "      <th>year</th>\n",
       "      <th>sex</th>\n",
       "      <th>age</th>\n",
       "      <th>population</th>\n",
       "      <th>gdp_per_capita ($)</th>\n",
       "      <th>generation</th>\n",
       "    </tr>\n",
       "  </thead>\n",
       "  <tbody>\n",
       "    <tr>\n",
       "      <th>0</th>\n",
       "      <td>2</td>\n",
       "      <td>1987</td>\n",
       "      <td>1</td>\n",
       "      <td>2</td>\n",
       "      <td>312900</td>\n",
       "      <td>796</td>\n",
       "      <td>1</td>\n",
       "    </tr>\n",
       "    <tr>\n",
       "      <th>1</th>\n",
       "      <td>2</td>\n",
       "      <td>1987</td>\n",
       "      <td>1</td>\n",
       "      <td>4</td>\n",
       "      <td>308000</td>\n",
       "      <td>796</td>\n",
       "      <td>2</td>\n",
       "    </tr>\n",
       "    <tr>\n",
       "      <th>2</th>\n",
       "      <td>2</td>\n",
       "      <td>1987</td>\n",
       "      <td>0</td>\n",
       "      <td>2</td>\n",
       "      <td>289700</td>\n",
       "      <td>796</td>\n",
       "      <td>1</td>\n",
       "    </tr>\n",
       "    <tr>\n",
       "      <th>3</th>\n",
       "      <td>2</td>\n",
       "      <td>1987</td>\n",
       "      <td>1</td>\n",
       "      <td>6</td>\n",
       "      <td>21800</td>\n",
       "      <td>796</td>\n",
       "      <td>3</td>\n",
       "    </tr>\n",
       "    <tr>\n",
       "      <th>4</th>\n",
       "      <td>2</td>\n",
       "      <td>1987</td>\n",
       "      <td>1</td>\n",
       "      <td>3</td>\n",
       "      <td>274300</td>\n",
       "      <td>796</td>\n",
       "      <td>4</td>\n",
       "    </tr>\n",
       "  </tbody>\n",
       "</table>\n",
       "</div>"
      ],
      "text/plain": [
       "   country  year  sex  age  population  gdp_per_capita ($)  generation\n",
       "0        2  1987    1    2      312900                 796           1\n",
       "1        2  1987    1    4      308000                 796           2\n",
       "2        2  1987    0    2      289700                 796           1\n",
       "3        2  1987    1    6       21800                 796           3\n",
       "4        2  1987    1    3      274300                 796           4"
      ]
     },
     "execution_count": 17,
     "metadata": {},
     "output_type": "execute_result"
    }
   ],
   "source": [
    "join.head()"
   ]
  },
  {
   "cell_type": "code",
   "execution_count": 18,
   "metadata": {},
   "outputs": [],
   "source": [
    "def normalize(X):\n",
    "    return np.abs((X-np.mean(X))/np.std(X))\n",
    "join.year=normalize(join.year)\n",
    "join['gdp_per_capita ($)']=normalize(join['gdp_per_capita ($)'])\n",
    "join.population=normalize(join.population)\n"
   ]
  },
  {
   "cell_type": "code",
   "execution_count": 19,
   "metadata": {},
   "outputs": [
    {
     "data": {
      "text/html": [
       "<div>\n",
       "<style scoped>\n",
       "    .dataframe tbody tr th:only-of-type {\n",
       "        vertical-align: middle;\n",
       "    }\n",
       "\n",
       "    .dataframe tbody tr th {\n",
       "        vertical-align: top;\n",
       "    }\n",
       "\n",
       "    .dataframe thead th {\n",
       "        text-align: right;\n",
       "    }\n",
       "</style>\n",
       "<table border=\"1\" class=\"dataframe\">\n",
       "  <thead>\n",
       "    <tr style=\"text-align: right;\">\n",
       "      <th></th>\n",
       "      <th>country</th>\n",
       "      <th>year</th>\n",
       "      <th>sex</th>\n",
       "      <th>age</th>\n",
       "      <th>population</th>\n",
       "      <th>gdp_per_capita ($)</th>\n",
       "      <th>generation</th>\n",
       "    </tr>\n",
       "  </thead>\n",
       "  <tbody>\n",
       "    <tr>\n",
       "      <th>0</th>\n",
       "      <td>2</td>\n",
       "      <td>1.683615</td>\n",
       "      <td>1</td>\n",
       "      <td>2</td>\n",
       "      <td>0.391617</td>\n",
       "      <td>0.850864</td>\n",
       "      <td>1</td>\n",
       "    </tr>\n",
       "    <tr>\n",
       "      <th>1</th>\n",
       "      <td>2</td>\n",
       "      <td>1.683615</td>\n",
       "      <td>1</td>\n",
       "      <td>4</td>\n",
       "      <td>0.392870</td>\n",
       "      <td>0.850864</td>\n",
       "      <td>2</td>\n",
       "    </tr>\n",
       "    <tr>\n",
       "      <th>2</th>\n",
       "      <td>2</td>\n",
       "      <td>1.683615</td>\n",
       "      <td>0</td>\n",
       "      <td>2</td>\n",
       "      <td>0.397548</td>\n",
       "      <td>0.850864</td>\n",
       "      <td>1</td>\n",
       "    </tr>\n",
       "    <tr>\n",
       "      <th>3</th>\n",
       "      <td>2</td>\n",
       "      <td>1.683615</td>\n",
       "      <td>1</td>\n",
       "      <td>6</td>\n",
       "      <td>0.466035</td>\n",
       "      <td>0.850864</td>\n",
       "      <td>3</td>\n",
       "    </tr>\n",
       "    <tr>\n",
       "      <th>4</th>\n",
       "      <td>2</td>\n",
       "      <td>1.683615</td>\n",
       "      <td>1</td>\n",
       "      <td>3</td>\n",
       "      <td>0.401485</td>\n",
       "      <td>0.850864</td>\n",
       "      <td>4</td>\n",
       "    </tr>\n",
       "  </tbody>\n",
       "</table>\n",
       "</div>"
      ],
      "text/plain": [
       "   country      year  sex  age  population  gdp_per_capita ($)  generation\n",
       "0        2  1.683615    1    2    0.391617            0.850864           1\n",
       "1        2  1.683615    1    4    0.392870            0.850864           2\n",
       "2        2  1.683615    0    2    0.397548            0.850864           1\n",
       "3        2  1.683615    1    6    0.466035            0.850864           3\n",
       "4        2  1.683615    1    3    0.401485            0.850864           4"
      ]
     },
     "execution_count": 19,
     "metadata": {},
     "output_type": "execute_result"
    }
   ],
   "source": [
    "join.head()"
   ]
  },
  {
   "cell_type": "code",
   "execution_count": 20,
   "metadata": {},
   "outputs": [],
   "source": [
    "x_test=join.iloc[18083:]\n",
    "x_cv=join.iloc[16000:18083]\n",
    "x_train=join.iloc[0:16000,:]\n",
    "y_cv=labels.iloc[16000:]\n",
    "y_train=labels.iloc[0:16000]"
   ]
  },
  {
   "cell_type": "code",
   "execution_count": 21,
   "metadata": {},
   "outputs": [
    {
     "data": {
      "text/plain": [
       "country               0\n",
       "year                  0\n",
       "sex                   0\n",
       "age                   0\n",
       "population            0\n",
       "gdp_per_capita ($)    0\n",
       "generation            0\n",
       "dtype: int64"
      ]
     },
     "execution_count": 21,
     "metadata": {},
     "output_type": "execute_result"
    }
   ],
   "source": [
    "join.isnull().sum()"
   ]
  },
  {
   "cell_type": "code",
   "execution_count": 22,
   "metadata": {},
   "outputs": [
    {
     "data": {
      "text/plain": [
       "0.05253709490780323"
      ]
     },
     "execution_count": 22,
     "metadata": {},
     "output_type": "execute_result"
    }
   ],
   "source": [
    "from sklearn.tree import DecisionTreeRegressor\n",
    "tree=DecisionTreeRegressor()\n",
    "tree.fit(x_train,y_train)\n",
    "tree.score(x_cv,y_cv)"
   ]
  },
  {
   "cell_type": "code",
   "execution_count": 23,
   "metadata": {},
   "outputs": [],
   "source": [
    "y_pred=tree.predict(x_test)"
   ]
  },
  {
   "cell_type": "code",
   "execution_count": 24,
   "metadata": {},
   "outputs": [
    {
     "data": {
      "text/plain": [
       "8384.0"
      ]
     },
     "execution_count": 24,
     "metadata": {},
     "output_type": "execute_result"
    }
   ],
   "source": [
    "y_pred.max()"
   ]
  },
  {
   "cell_type": "code",
   "execution_count": 25,
   "metadata": {},
   "outputs": [],
   "source": [
    "y=tree.predict(x_train)"
   ]
  },
  {
   "cell_type": "code",
   "execution_count": 26,
   "metadata": {},
   "outputs": [
    {
     "data": {
      "text/plain": [
       "0.0"
      ]
     },
     "execution_count": 26,
     "metadata": {},
     "output_type": "execute_result"
    }
   ],
   "source": [
    "m=len(y_train)\n",
    "error=(1/2*m)*(y-y_train)**2\n",
    "error.sum()"
   ]
  },
  {
   "cell_type": "code",
   "execution_count": 27,
   "metadata": {},
   "outputs": [],
   "source": [
    "y_pred=tree.predict(x_test)"
   ]
  },
  {
   "cell_type": "code",
   "execution_count": 28,
   "metadata": {},
   "outputs": [],
   "source": [
    "submissions.suicides_no=y_pred"
   ]
  },
  {
   "cell_type": "code",
   "execution_count": 29,
   "metadata": {},
   "outputs": [],
   "source": [
    "submissions.to_csv(\"pred.csv\",index=False)"
   ]
  },
  {
   "cell_type": "code",
   "execution_count": 32,
   "metadata": {},
   "outputs": [
    {
     "name": "stderr",
     "output_type": "stream",
     "text": [
      "C:\\Users\\Raluca\\Anaconda3\\lib\\site-packages\\sklearn\\ensemble\\forest.py:246: FutureWarning: The default value of n_estimators will change from 10 in version 0.20 to 100 in 0.22.\n",
      "  \"10 in version 0.20 to 100 in 0.22.\", FutureWarning)\n"
     ]
    },
    {
     "data": {
      "text/plain": [
       "0.10225636101776284"
      ]
     },
     "execution_count": 32,
     "metadata": {},
     "output_type": "execute_result"
    }
   ],
   "source": [
    "from sklearn.ensemble import RandomForestClassifier\n",
    "tree=RandomForestClassifier()\n",
    "tree.fit(x_train,y_train)\n",
    "y_predicted = tree.predict(x_cv)\n",
    "tree.score(x_cv,y_cv)"
   ]
  },
  {
   "cell_type": "code",
   "execution_count": null,
   "metadata": {},
   "outputs": [],
   "source": []
  }
 ],
 "metadata": {
  "kernelspec": {
   "display_name": "Python 3",
   "language": "python",
   "name": "python3"
  },
  "language_info": {
   "codemirror_mode": {
    "name": "ipython",
    "version": 3
   },
   "file_extension": ".py",
   "mimetype": "text/x-python",
   "name": "python",
   "nbconvert_exporter": "python",
   "pygments_lexer": "ipython3",
   "version": "3.7.3"
  }
 },
 "nbformat": 4,
 "nbformat_minor": 2
}
